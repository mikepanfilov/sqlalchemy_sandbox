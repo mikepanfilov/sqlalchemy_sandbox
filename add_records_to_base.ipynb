{
 "cells": [
  {
   "cell_type": "markdown",
   "metadata": {},
   "source": [
    "```\n",
    "+--------------+--------------+------+-----+-------------------+-----------------------------------------------+\n",
    "| Field        | Type         | Null | Key | Default           | Extra                                         |\n",
    "+--------------+--------------+------+-----+-------------------+-----------------------------------------------+\n",
    "| id           | int          | NO   | PRI | NULL              | auto_increment                                |\n",
    "| name         | varchar(20)  | YES  |     | NULL              |                                               |\n",
    "| datetime     | timestamp    | NO   |     | CURRENT_TIMESTAMP | DEFAULT_GENERATED                             |\n",
    "| status       | varchar(10)  | YES  |     | NULL              |                                               |\n",
    "| date_updated | timestamp    | NO   |     | CURRENT_TIMESTAMP | DEFAULT_GENERATED on update CURRENT_TIMESTAMP |\n",
    "| filepath     | varchar(200) | YES  |     | NULL              |                                               |\n",
    "+--------------+--------------+------+-----+-------------------+-----------------------------------------------+\n",
    "```"
   ]
  },
  {
   "cell_type": "code",
   "execution_count": 1,
   "metadata": {},
   "outputs": [
    {
     "data": {
      "text/plain": [
       "<Mapper at 0x7f888c34a580; Excel>"
      ]
     },
     "execution_count": 1,
     "metadata": {},
     "output_type": "execute_result"
    }
   ],
   "source": [
    "from sqlalchemy import create_engine, orm, MetaData\n",
    "engine = create_engine('mysql://root@localhost/sandbox', echo=False)\n",
    "meta = MetaData(bind=engine)\n",
    "meta.reflect()\n",
    "class Excel(object):\n",
    "    def __init__(self, name, status, filepath):\n",
    "        self.name = name\n",
    "        self.status = status\n",
    "        self.filepath = filepath\n",
    "        \n",
    "    def __repr__(self):\n",
    "        return f'Excel<{self.id}-{self.datetime}-{self.date_updated}:<{self.name}><{self.status}><{self.filepath}>'\n",
    "\n",
    "orm.Mapper(Excel, meta.tables['excel_from_hell'])"
   ]
  },
  {
   "cell_type": "markdown",
   "metadata": {},
   "source": [
    "## Session start"
   ]
  },
  {
   "cell_type": "code",
   "execution_count": 2,
   "metadata": {},
   "outputs": [],
   "source": [
    "import pandas as pd"
   ]
  },
  {
   "cell_type": "code",
   "execution_count": 3,
   "metadata": {},
   "outputs": [],
   "source": [
    "session = orm.Session(bind=engine)"
   ]
  },
  {
   "cell_type": "code",
   "execution_count": 4,
   "metadata": {},
   "outputs": [],
   "source": [
    "data_for_table = {\n",
    "    'name': ['30_Астрахань_20210215', '57_Орел_20210215', '58_Пенза_20210208'],\n",
    "    'status': ['new', 'new', 'new'],\n",
    "    'filepath': ['source_files/30_Астрахань_20210215.xls', \n",
    "                 'source_files/57_Орел_20210215.xls', \n",
    "                 'source_files/58_Пенза_20210208.xlsx']\n",
    "}\n",
    "df = pd.DataFrame(data=data_for_table)"
   ]
  },
  {
   "cell_type": "code",
   "execution_count": 5,
   "metadata": {},
   "outputs": [
    {
     "data": {
      "text/html": [
       "<div>\n",
       "<style scoped>\n",
       "    .dataframe tbody tr th:only-of-type {\n",
       "        vertical-align: middle;\n",
       "    }\n",
       "\n",
       "    .dataframe tbody tr th {\n",
       "        vertical-align: top;\n",
       "    }\n",
       "\n",
       "    .dataframe thead th {\n",
       "        text-align: right;\n",
       "    }\n",
       "</style>\n",
       "<table border=\"1\" class=\"dataframe\">\n",
       "  <thead>\n",
       "    <tr style=\"text-align: right;\">\n",
       "      <th></th>\n",
       "      <th>name</th>\n",
       "      <th>status</th>\n",
       "      <th>filepath</th>\n",
       "    </tr>\n",
       "  </thead>\n",
       "  <tbody>\n",
       "    <tr>\n",
       "      <th>0</th>\n",
       "      <td>30_Астрахань_20210215</td>\n",
       "      <td>new</td>\n",
       "      <td>source_files/30_Астрахань_20210215.xls</td>\n",
       "    </tr>\n",
       "    <tr>\n",
       "      <th>1</th>\n",
       "      <td>57_Орел_20210215</td>\n",
       "      <td>new</td>\n",
       "      <td>source_files/57_Орел_20210215.xls</td>\n",
       "    </tr>\n",
       "    <tr>\n",
       "      <th>2</th>\n",
       "      <td>58_Пенза_20210208</td>\n",
       "      <td>new</td>\n",
       "      <td>source_files/58_Пенза_20210208.xlsx</td>\n",
       "    </tr>\n",
       "  </tbody>\n",
       "</table>\n",
       "</div>"
      ],
      "text/plain": [
       "                    name status                                filepath\n",
       "0  30_Астрахань_20210215    new  source_files/30_Астрахань_20210215.xls\n",
       "1       57_Орел_20210215    new       source_files/57_Орел_20210215.xls\n",
       "2      58_Пенза_20210208    new     source_files/58_Пенза_20210208.xlsx"
      ]
     },
     "execution_count": 5,
     "metadata": {},
     "output_type": "execute_result"
    }
   ],
   "source": [
    "df"
   ]
  },
  {
   "cell_type": "markdown",
   "metadata": {},
   "source": [
    "## Convert to dict:"
   ]
  },
  {
   "cell_type": "code",
   "execution_count": 6,
   "metadata": {},
   "outputs": [],
   "source": [
    "data_dict = df.to_dict(orient='records')"
   ]
  },
  {
   "cell_type": "code",
   "execution_count": 7,
   "metadata": {},
   "outputs": [
    {
     "data": {
      "text/plain": [
       "[{'name': '30_Астрахань_20210215',\n",
       "  'status': 'new',\n",
       "  'filepath': 'source_files/30_Астрахань_20210215.xls'},\n",
       " {'name': '57_Орел_20210215',\n",
       "  'status': 'new',\n",
       "  'filepath': 'source_files/57_Орел_20210215.xls'},\n",
       " {'name': '58_Пенза_20210208',\n",
       "  'status': 'new',\n",
       "  'filepath': 'source_files/58_Пенза_20210208.xlsx'}]"
      ]
     },
     "execution_count": 7,
     "metadata": {},
     "output_type": "execute_result"
    }
   ],
   "source": [
    "data_dict"
   ]
  },
  {
   "cell_type": "code",
   "execution_count": 8,
   "metadata": {},
   "outputs": [
    {
     "name": "stdout",
     "output_type": "stream",
     "text": [
      "{'name': '30_Астрахань_20210215', 'status': 'new', 'filepath': 'source_files/30_Астрахань_20210215.xls'}\n",
      "{'name': '57_Орел_20210215', 'status': 'new', 'filepath': 'source_files/57_Орел_20210215.xls'}\n",
      "{'name': '58_Пенза_20210208', 'status': 'new', 'filepath': 'source_files/58_Пенза_20210208.xlsx'}\n"
     ]
    }
   ],
   "source": [
    "for record in data_dict:\n",
    "    print(record)"
   ]
  },
  {
   "cell_type": "markdown",
   "metadata": {},
   "source": [
    "Add to base (FAKE)"
   ]
  },
  {
   "cell_type": "code",
   "execution_count": 9,
   "metadata": {},
   "outputs": [
    {
     "data": {
      "text/plain": [
       "Excel<None-None-None:<30_Астрахань_20210215><new><source_files/30_Астрахань_20210215.xls>"
      ]
     },
     "metadata": {},
     "output_type": "display_data"
    },
    {
     "data": {
      "text/plain": [
       "Excel<None-None-None:<57_Орел_20210215><new><source_files/57_Орел_20210215.xls>"
      ]
     },
     "metadata": {},
     "output_type": "display_data"
    },
    {
     "data": {
      "text/plain": [
       "Excel<None-None-None:<58_Пенза_20210208><new><source_files/58_Пенза_20210208.xlsx>"
      ]
     },
     "metadata": {},
     "output_type": "display_data"
    }
   ],
   "source": [
    "for record in data_dict:\n",
    "    display(Excel(name=record['name'], status=record['status'], filepath=record['filepath']))"
   ]
  },
  {
   "cell_type": "markdown",
   "metadata": {},
   "source": [
    "## Add to session:"
   ]
  },
  {
   "cell_type": "code",
   "execution_count": 10,
   "metadata": {},
   "outputs": [],
   "source": [
    "for record in data_dict:\n",
    "    session.add(Excel(name=record['name'], status=record['status'], filepath=record['filepath']))"
   ]
  },
  {
   "cell_type": "markdown",
   "metadata": {},
   "source": [
    "Check for new records:"
   ]
  },
  {
   "cell_type": "code",
   "execution_count": 11,
   "metadata": {},
   "outputs": [
    {
     "data": {
      "text/plain": [
       "IdentitySet([Excel<None-None-None:<30_Астрахань_20210215><new><source_files/30_Астрахань_20210215.xls>, Excel<None-None-None:<57_Орел_20210215><new><source_files/57_Орел_20210215.xls>, Excel<None-None-None:<58_Пенза_20210208><new><source_files/58_Пенза_20210208.xlsx>])"
      ]
     },
     "execution_count": 11,
     "metadata": {},
     "output_type": "execute_result"
    }
   ],
   "source": [
    "session.new"
   ]
  },
  {
   "cell_type": "code",
   "execution_count": 12,
   "metadata": {},
   "outputs": [],
   "source": [
    "session.commit()\n",
    "session.close()"
   ]
  },
  {
   "cell_type": "markdown",
   "metadata": {},
   "source": [
    "## Update names:"
   ]
  },
  {
   "cell_type": "code",
   "execution_count": 13,
   "metadata": {},
   "outputs": [],
   "source": [
    "session = orm.Session(bind=engine)"
   ]
  },
  {
   "cell_type": "markdown",
   "metadata": {},
   "source": [
    "New names list:"
   ]
  },
  {
   "cell_type": "code",
   "execution_count": 21,
   "metadata": {},
   "outputs": [],
   "source": [
    "new_names = [('58_Penza_20210208', 'source_files/58_Penza_20210208.xlsx'),\n",
    "('30_Astrakhan_20210215', 'source_files/30_Astrakhan_20210215.xls'),\n",
    "('57_Orel_20210215', 'source_files/57_Orel_20210215.xls')]"
   ]
  },
  {
   "cell_type": "code",
   "execution_count": 28,
   "metadata": {},
   "outputs": [
    {
     "data": {
      "text/plain": [
       "[Excel<1-2021-02-08 12:08:16-2021-02-08 12:08:16:<30_Астрахань_20210215><new><source_files/30_Астрахань_20210215.xls>,\n",
       " Excel<2-2021-02-08 12:08:16-2021-02-08 12:08:16:<57_Орел_20210215><new><source_files/57_Орел_20210215.xls>,\n",
       " Excel<3-2021-02-08 12:08:16-2021-02-08 12:08:16:<58_Пенза_20210208><new><source_files/58_Пенза_20210208.xlsx>]"
      ]
     },
     "execution_count": 28,
     "metadata": {},
     "output_type": "execute_result"
    }
   ],
   "source": [
    "session.query(Excel).all()"
   ]
  },
  {
   "cell_type": "code",
   "execution_count": 29,
   "metadata": {},
   "outputs": [],
   "source": [
    "for n, record in enumerate(session.query(Excel).all()):\n",
    "    record.name = new_names[n][0]\n",
    "    record.filepath = new_names[n][1]"
   ]
  },
  {
   "cell_type": "code",
   "execution_count": 30,
   "metadata": {},
   "outputs": [
    {
     "data": {
      "text/plain": [
       "[Excel<1-2021-02-08 12:08:16-2021-02-08 12:08:16:<58_Penza_20210208><new><source_files/58_Penza_20210208.xlsx>,\n",
       " Excel<2-2021-02-08 12:08:16-2021-02-08 12:08:16:<30_Astrakhan_20210215><new><source_files/30_Astrakhan_20210215.xls>,\n",
       " Excel<3-2021-02-08 12:08:16-2021-02-08 12:08:16:<57_Orel_20210215><new><source_files/57_Orel_20210215.xls>]"
      ]
     },
     "execution_count": 30,
     "metadata": {},
     "output_type": "execute_result"
    }
   ],
   "source": [
    "session.query(Excel).all()"
   ]
  },
  {
   "cell_type": "code",
   "execution_count": 32,
   "metadata": {},
   "outputs": [],
   "source": [
    "session.commit()"
   ]
  }
 ],
 "metadata": {
  "kernelspec": {
   "display_name": "Python 3",
   "language": "python",
   "name": "python3"
  },
  "language_info": {
   "codemirror_mode": {
    "name": "ipython",
    "version": 3
   },
   "file_extension": ".py",
   "mimetype": "text/x-python",
   "name": "python",
   "nbconvert_exporter": "python",
   "pygments_lexer": "ipython3",
   "version": "3.8.3"
  }
 },
 "nbformat": 4,
 "nbformat_minor": 4
}
