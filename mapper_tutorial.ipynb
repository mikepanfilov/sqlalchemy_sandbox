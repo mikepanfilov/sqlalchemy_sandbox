{
 "cells": [
  {
   "cell_type": "code",
   "execution_count": 1,
   "metadata": {},
   "outputs": [],
   "source": [
    "from sqlalchemy import create_engine"
   ]
  },
  {
   "cell_type": "code",
   "execution_count": 2,
   "metadata": {},
   "outputs": [],
   "source": [
    "engine = create_engine('mysql://root@localhost/sandbox', echo=False)"
   ]
  },
  {
   "cell_type": "code",
   "execution_count": 7,
   "metadata": {},
   "outputs": [
    {
     "name": "stdout",
     "output_type": "stream",
     "text": [
      "{'id': 1, 'name': 'Ашот', 'surname': 'Караханян', 'nick': 'pedrini'}\n",
      "{'id': 2, 'name': 'Вазген', 'surname': 'Варданян', 'nick': 'pisini'}\n",
      "{'id': 3, 'name': 'Хачик', 'surname': 'Пиросян', 'nick': 'perdini'}\n",
      "{'id': 4, 'name': 'Вазген', 'surname': 'Долбоебян', 'nick': 'mudini'}\n",
      "{'id': 5, 'name': 'Вазген', 'surname': 'Долбоебян', 'nick': 'mudini'}\n"
     ]
    }
   ],
   "source": [
    "for row in engine.execute('SELECT * FROM erm'):\n",
    "    print (dict(row))"
   ]
  },
  {
   "cell_type": "code",
   "execution_count": 10,
   "metadata": {},
   "outputs": [
    {
     "data": {
      "text/plain": [
       "5"
      ]
     },
     "execution_count": 10,
     "metadata": {},
     "output_type": "execute_result"
    }
   ],
   "source": [
    "row['id']"
   ]
  },
  {
   "cell_type": "code",
   "execution_count": 11,
   "metadata": {},
   "outputs": [],
   "source": [
    "from sqlalchemy import Table, MetaData"
   ]
  },
  {
   "cell_type": "code",
   "execution_count": 26,
   "metadata": {},
   "outputs": [],
   "source": [
    "meta = MetaData(bind=engine)\n",
    "meta.reflect()"
   ]
  },
  {
   "cell_type": "code",
   "execution_count": 30,
   "metadata": {},
   "outputs": [
    {
     "data": {
      "text/plain": [
       "Table('erm', MetaData(bind=Engine(mysql://root@localhost/sandbox)), Column('id', INTEGER(), table=<erm>, primary_key=True, nullable=False), Column('name', VARCHAR(length=50), table=<erm>), Column('surname', VARCHAR(length=50), table=<erm>), Column('nick', VARCHAR(length=10), table=<erm>), schema=None)"
      ]
     },
     "execution_count": 30,
     "metadata": {},
     "output_type": "execute_result"
    }
   ],
   "source": [
    "table = meta.tables['erm']\n",
    "table"
   ]
  },
  {
   "cell_type": "code",
   "execution_count": null,
   "metadata": {},
   "outputs": [],
   "source": []
  }
 ],
 "metadata": {
  "kernelspec": {
   "display_name": "Python 3",
   "language": "python",
   "name": "python3"
  },
  "language_info": {
   "codemirror_mode": {
    "name": "ipython",
    "version": 3
   },
   "file_extension": ".py",
   "mimetype": "text/x-python",
   "name": "python",
   "nbconvert_exporter": "python",
   "pygments_lexer": "ipython3",
   "version": "3.8.3"
  }
 },
 "nbformat": 4,
 "nbformat_minor": 4
}
