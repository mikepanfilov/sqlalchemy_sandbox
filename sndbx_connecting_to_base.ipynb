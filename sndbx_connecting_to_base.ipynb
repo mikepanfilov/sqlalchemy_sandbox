{
 "cells": [
  {
   "cell_type": "code",
   "execution_count": 1,
   "metadata": {},
   "outputs": [],
   "source": [
    "from sqlalchemy import create_engine"
   ]
  },
  {
   "cell_type": "code",
   "execution_count": 2,
   "metadata": {},
   "outputs": [],
   "source": [
    "engine = create_engine('mysql://root@localhost/sandbox', echo=True)"
   ]
  },
  {
   "cell_type": "code",
   "execution_count": 3,
   "metadata": {},
   "outputs": [],
   "source": [
    "from sqlalchemy.ext.automap import automap_base\n",
    "from sqlalchemy.orm import Session"
   ]
  },
  {
   "cell_type": "code",
   "execution_count": 4,
   "metadata": {},
   "outputs": [],
   "source": [
    "Base = automap_base()"
   ]
  },
  {
   "cell_type": "code",
   "execution_count": 5,
   "metadata": {},
   "outputs": [
    {
     "name": "stdout",
     "output_type": "stream",
     "text": [
      "2021-02-07 13:04:11,126 INFO sqlalchemy.engine.base.Engine SHOW VARIABLES LIKE 'sql_mode'\n",
      "2021-02-07 13:04:11,127 INFO sqlalchemy.engine.base.Engine ()\n",
      "2021-02-07 13:04:11,130 INFO sqlalchemy.engine.base.Engine SHOW VARIABLES LIKE 'lower_case_table_names'\n",
      "2021-02-07 13:04:11,131 INFO sqlalchemy.engine.base.Engine ()\n",
      "2021-02-07 13:04:11,133 INFO sqlalchemy.engine.base.Engine SELECT DATABASE()\n",
      "2021-02-07 13:04:11,134 INFO sqlalchemy.engine.base.Engine ()\n",
      "2021-02-07 13:04:11,136 INFO sqlalchemy.engine.base.Engine show collation where `Charset` = 'utf8mb4' and `Collation` = 'utf8mb4_bin'\n",
      "2021-02-07 13:04:11,136 INFO sqlalchemy.engine.base.Engine ()\n",
      "2021-02-07 13:04:11,140 INFO sqlalchemy.engine.base.Engine SELECT CAST('test plain returns' AS CHAR(60)) AS anon_1\n",
      "2021-02-07 13:04:11,141 INFO sqlalchemy.engine.base.Engine ()\n",
      "2021-02-07 13:04:11,144 INFO sqlalchemy.engine.base.Engine SELECT CAST('test unicode returns' AS CHAR(60)) AS anon_1\n",
      "2021-02-07 13:04:11,146 INFO sqlalchemy.engine.base.Engine ()\n",
      "2021-02-07 13:04:11,148 INFO sqlalchemy.engine.base.Engine SELECT CAST('test collated returns' AS CHAR CHARACTER SET utf8mb4) COLLATE utf8mb4_bin AS anon_1\n",
      "2021-02-07 13:04:11,150 INFO sqlalchemy.engine.base.Engine ()\n",
      "2021-02-07 13:04:11,153 INFO sqlalchemy.engine.base.Engine SHOW FULL TABLES FROM `sandbox`\n",
      "2021-02-07 13:04:11,155 INFO sqlalchemy.engine.base.Engine ()\n",
      "2021-02-07 13:04:11,172 INFO sqlalchemy.engine.base.Engine SHOW CREATE TABLE `erm`\n",
      "2021-02-07 13:04:11,173 INFO sqlalchemy.engine.base.Engine ()\n"
     ]
    }
   ],
   "source": [
    "Base.prepare(engine, reflect=True)"
   ]
  },
  {
   "cell_type": "markdown",
   "metadata": {},
   "source": []
  },
  {
   "cell_type": "code",
   "execution_count": 9,
   "metadata": {},
   "outputs": [
    {
     "data": {
      "text/plain": [
       "sqlalchemy.ext.automap.erm"
      ]
     },
     "execution_count": 9,
     "metadata": {},
     "output_type": "execute_result"
    }
   ],
   "source": [
    "Base.classes.erm"
   ]
  }
 ],
 "metadata": {
  "kernelspec": {
   "display_name": "Python 3",
   "language": "python",
   "name": "python3"
  },
  "language_info": {
   "codemirror_mode": {
    "name": "ipython",
    "version": 3
   },
   "file_extension": ".py",
   "mimetype": "text/x-python",
   "name": "python",
   "nbconvert_exporter": "python",
   "pygments_lexer": "ipython3",
   "version": "3.8.3"
  }
 },
 "nbformat": 4,
 "nbformat_minor": 4
}
